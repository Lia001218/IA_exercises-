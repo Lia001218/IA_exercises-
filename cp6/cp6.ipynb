{
 "cells": [
  {
   "cell_type": "markdown",
   "id": "2400d626-b8d4-4d22-8e49-4830217315bf",
   "metadata": {},
   "source": [
    "# Clase Práctica 6: Planificación\n",
    "---"
   ]
  },
  {
   "cell_type": "markdown",
   "id": "cecae763-5142-474e-8175-4592edf1cd65",
   "metadata": {
    "tags": []
   },
   "source": [
    "La clase `PlanningProblem` se va a utilizar para representar problemas de planificación. Los siguientes atributos son esenciales para poder definir un problema:\n",
    "* un estado inicial\n",
    "* un conjunto de objetivos\n",
    "* un conjunto de acciones viables que se pueden ejecutar en el espacio de búsqueda del problema"
   ]
  },
  {
   "cell_type": "markdown",
   "id": "df77189e-01f9-48b0-9662-3412cfe1307a",
   "metadata": {},
   "source": [
    "`initial` es una expresión que forma la base de conocimiento inicial para el problema.\n",
    "<br>\n",
    "`goals` es una expresión que indica las metas a alcanzar por el problema.\n",
    "<br>\n",
    "`actions` contiene una lista de objetos `Action` que pueden ejecutarse en el espacio de búsqueda del problema.\n",
    "<br>\n",
    "`goal_test` comprueba si se ha alcanzado el objetivo.\n",
    "<br>\n",
    "`act` representa la acción dada y actualiza el estado actual.\n",
    "<br>"
   ]
  },
  {
   "cell_type": "code",
   "execution_count": null,
   "id": "d914f199-e3ae-4ab2-b50d-7e2d6de5d474",
   "metadata": {},
   "outputs": [],
   "source": [
    "import itertools\n",
    "import numpy as np\n",
    "import search\n",
    "from utils import *\n",
    "from logic import *\n",
    "from search import *\n",
    "from planning import *"
   ]
  },
  {
   "cell_type": "code",
   "execution_count": null,
   "id": "2e590002-4eb7-4122-93db-dd839b7d5807",
   "metadata": {},
   "outputs": [],
   "source": [
    "class PlanningProblem:\n",
    "    \"\"\"\n",
    "    Planning Domain Definition Language (PlanningProblem) used to define a search problem.\n",
    "    It stores states in a knowledge base consisting of first order logic statements.\n",
    "    The conjunction of these logical statements completely defines a state.\n",
    "    \"\"\"\n",
    "\n",
    "    def __init__(self, initial, goals, actions, domain=None):\n",
    "        self.initial = self.convert(initial) if domain is None else self.convert(initial) + self.convert(domain)\n",
    "        self.goals = self.convert(goals)\n",
    "        self.actions = actions\n",
    "        self.domain = domain\n",
    "\n",
    "    def convert(self, clauses):\n",
    "        \"\"\"Converts strings into exprs\"\"\"\n",
    "        if not isinstance(clauses, Expr):\n",
    "            if len(clauses) > 0:\n",
    "                clauses = expr(clauses)\n",
    "            else:\n",
    "                clauses = []\n",
    "        try:\n",
    "            clauses = conjuncts(clauses)\n",
    "        except AttributeError:\n",
    "            pass\n",
    "\n",
    "        new_clauses = []\n",
    "        for clause in clauses:\n",
    "            if clause.op == '~':\n",
    "                new_clauses.append(expr('Not' + str(clause.args[0])))\n",
    "            else:\n",
    "                new_clauses.append(clause)\n",
    "        return new_clauses\n",
    "\n",
    "    def expand_fluents(self, name=None):\n",
    "\n",
    "        kb = None\n",
    "        if self.domain:\n",
    "            kb = FolKB(self.convert(self.domain))\n",
    "            for action in self.actions:\n",
    "                if action.precond:\n",
    "                    for fests in set(action.precond).union(action.effect).difference(self.convert(action.domain)):\n",
    "                        if fests.op[:3] != 'Not':\n",
    "                            kb.tell(expr(str(action.domain) + ' ==> ' + str(fests)))\n",
    "\n",
    "        objects = set(arg for clause in set(self.initial + self.goals) for arg in clause.args)\n",
    "        fluent_list = []\n",
    "        if name is not None:\n",
    "            for fluent in self.initial + self.goals:\n",
    "                if str(fluent) == name:\n",
    "                    fluent_list.append(fluent)\n",
    "                    break\n",
    "        else:\n",
    "            fluent_list = list(map(lambda fluent: Expr(fluent[0], *fluent[1]),\n",
    "                                   {fluent.op: fluent.args for fluent in self.initial + self.goals +\n",
    "                                    [clause for action in self.actions for clause in action.effect if\n",
    "                                     clause.op[:3] != 'Not']}.items()))\n",
    "\n",
    "        expansions = []\n",
    "        for fluent in fluent_list:\n",
    "            for permutation in itertools.permutations(objects, len(fluent.args)):\n",
    "                new_fluent = Expr(fluent.op, *permutation)\n",
    "                if (self.domain and kb.ask(new_fluent) is not False) or not self.domain:\n",
    "                    expansions.append(new_fluent)\n",
    "\n",
    "        return expansions\n",
    "\n",
    "    def expand_actions(self, name=None):\n",
    "        \"\"\"Generate all possible actions with variable bindings for precondition selection heuristic\"\"\"\n",
    "\n",
    "        has_domains = all(action.domain for action in self.actions if action.precond)\n",
    "        kb = None\n",
    "        if has_domains:\n",
    "            kb = FolKB(self.initial)\n",
    "            for action in self.actions:\n",
    "                if action.precond:\n",
    "                    kb.tell(expr(str(action.domain) + ' ==> ' + str(action)))\n",
    "\n",
    "        objects = set(arg for clause in self.initial for arg in clause.args)\n",
    "        expansions = []\n",
    "        action_list = []\n",
    "        if name is not None:\n",
    "            for action in self.actions:\n",
    "                if str(action.name) == name:\n",
    "                    action_list.append(action)\n",
    "                    break\n",
    "        else:\n",
    "            action_list = self.actions\n",
    "\n",
    "        for action in action_list:\n",
    "            for permutation in itertools.permutations(objects, len(action.args)):\n",
    "                bindings = unify_mm(Expr(action.name, *action.args), Expr(action.name, *permutation))\n",
    "                if bindings is not None:\n",
    "                    new_args = []\n",
    "                    for arg in action.args:\n",
    "                        if arg in bindings:\n",
    "                            new_args.append(bindings[arg])\n",
    "                        else:\n",
    "                            new_args.append(arg)\n",
    "                    new_expr = Expr(str(action.name), *new_args)\n",
    "                    if (has_domains and kb.ask(new_expr) is not False) or (\n",
    "                            has_domains and not action.precond) or not has_domains:\n",
    "                        new_preconds = []\n",
    "                        for precond in action.precond:\n",
    "                            new_precond_args = []\n",
    "                            for arg in precond.args:\n",
    "                                if arg in bindings:\n",
    "                                    new_precond_args.append(bindings[arg])\n",
    "                                else:\n",
    "                                    new_precond_args.append(arg)\n",
    "                            new_precond = Expr(str(precond.op), *new_precond_args)\n",
    "                            new_preconds.append(new_precond)\n",
    "                        new_effects = []\n",
    "                        for effect in action.effect:\n",
    "                            new_effect_args = []\n",
    "                            for arg in effect.args:\n",
    "                                if arg in bindings:\n",
    "                                    new_effect_args.append(bindings[arg])\n",
    "                                else:\n",
    "                                    new_effect_args.append(arg)\n",
    "                            new_effect = Expr(str(effect.op), *new_effect_args)\n",
    "                            new_effects.append(new_effect)\n",
    "                        expansions.append(Action(new_expr, new_preconds, new_effects))\n",
    "\n",
    "        return expansions\n",
    "\n",
    "    def is_strips(self):\n",
    "        \"\"\"\n",
    "        Returns True if the problem does not contain negative literals in preconditions and goals\n",
    "        \"\"\"\n",
    "        return (all(clause.op[:3] != 'Not' for clause in self.goals) and\n",
    "                all(clause.op[:3] != 'Not' for action in self.actions for clause in action.precond))\n",
    "\n",
    "    def goal_test(self):\n",
    "        \"\"\"Checks if the goals have been reached\"\"\"\n",
    "        return all(goal in self.initial for goal in self.goals)\n",
    "\n",
    "    def act(self, action):\n",
    "        \"\"\"\n",
    "        Performs the action given as argument.\n",
    "        Note that action is an Expr like expr('Remove(Glass, Table)') or expr('Eat(Sandwich)')\n",
    "        \"\"\"\n",
    "        action_name = action.op\n",
    "        args = action.args\n",
    "        list_action = first(a for a in self.actions if a.name == action_name)\n",
    "        if list_action is None:\n",
    "            raise Exception(\"Action '{}' not found\".format(action_name))\n",
    "        if not list_action.check_precond(self.initial, args):\n",
    "            raise Exception(\"Action '{}' pre-conditions not satisfied\".format(action))\n",
    "        self.initial = list_action(self.initial, args).clauses\n"
   ]
  },
  {
   "cell_type": "markdown",
   "id": "17f1b23c-5497-4270-af59-0a8b30171de4",
   "metadata": {},
   "source": [
    "## Acción\n",
    "Para poder modelar correctamente un problema de planificación, es fundamental poder representar una Acción. Cada acción que modelamos requiere al menos tres cosas:\n",
    "* condiciones previas que debe cumplir la acción\n",
    "* los efectos de ejecutar la acción\n",
    "* alguna expresión que representa la acción"
   ]
  },
  {
   "cell_type": "markdown",
   "id": "33da7a46-c91f-4ad9-a382-b1fa59e9bb8d",
   "metadata": {},
   "source": [
    "Esta clase representa una acción dada la expresión, las condiciones previas y sus efectos.\n",
    "Una lista `precond` almacena las condiciones previas de la acción y una lista `effect` almacena sus efectos.\n",
    "El método `convert` toma una cadena de entrada, la analiza, elimina las conjunciones si las hay y devuelve una lista de objetos `Expr`.\n",
    "El método `check_precond` verifica si las condiciones previas para esa acción son válidas.\n",
    "El método `act` lleva a cabo la acción sobre la base de conocimiento dada."
   ]
  },
  {
   "cell_type": "code",
   "execution_count": null,
   "id": "6b00734b-018a-4daa-9c38-00eb9370fa8c",
   "metadata": {},
   "outputs": [],
   "source": [
    "class Action:\n",
    "    \"\"\"\n",
    "    Defines an action schema using preconditions and effects.\n",
    "    Use this to describe actions in PlanningProblem.\n",
    "    action is an Expr where variables are given as arguments(args).\n",
    "    Precondition and effect are both lists with positive and negative literals.\n",
    "    Negative preconditions and effects are defined by adding a 'Not' before the name of the clause\n",
    "    Example:\n",
    "    precond = [expr(\"Human(person)\"), expr(\"Hungry(Person)\"), expr(\"NotEaten(food)\")]\n",
    "    effect = [expr(\"Eaten(food)\"), expr(\"Hungry(person)\")]\n",
    "    eat = Action(expr(\"Eat(person, food)\"), precond, effect)\n",
    "    \"\"\"\n",
    "\n",
    "    def __init__(self, action, precond, effect, domain=None):\n",
    "        if isinstance(action, str):\n",
    "            action = expr(action)\n",
    "        self.name = action.op\n",
    "        self.args = action.args\n",
    "        self.precond = self.convert(precond) if domain is None else self.convert(precond) + self.convert(domain)\n",
    "        self.effect = self.convert(effect)\n",
    "        self.domain = domain\n",
    "\n",
    "    def __call__(self, kb, args):\n",
    "        return self.act(kb, args)\n",
    "\n",
    "    def __repr__(self):\n",
    "        return '{}'.format(Expr(self.name, *self.args))\n",
    "\n",
    "    def convert(self, clauses):\n",
    "        \"\"\"Converts strings into Exprs\"\"\"\n",
    "        if isinstance(clauses, Expr):\n",
    "            clauses = conjuncts(clauses)\n",
    "            for i in range(len(clauses)):\n",
    "                if clauses[i].op == '~':\n",
    "                    clauses[i] = expr('Not' + str(clauses[i].args[0]))\n",
    "\n",
    "        elif isinstance(clauses, str):\n",
    "            clauses = clauses.replace('~', 'Not')\n",
    "            if len(clauses) > 0:\n",
    "                clauses = expr(clauses)\n",
    "\n",
    "            try:\n",
    "                clauses = conjuncts(clauses)\n",
    "            except AttributeError:\n",
    "                pass\n",
    "\n",
    "        return clauses\n",
    "\n",
    "    def relaxed(self):\n",
    "        \"\"\"\n",
    "        Removes delete list from the action by removing all negative literals from action's effect\n",
    "        \"\"\"\n",
    "        return Action(Expr(self.name, *self.args), self.precond,\n",
    "                      list(filter(lambda effect: effect.op[:3] != 'Not', self.effect)))\n",
    "\n",
    "    def substitute(self, e, args):\n",
    "        \"\"\"Replaces variables in expression with their respective Propositional symbol\"\"\"\n",
    "\n",
    "        new_args = list(e.args)\n",
    "        for num, x in enumerate(e.args):\n",
    "            for i, _ in enumerate(self.args):\n",
    "                if self.args[i] == x:\n",
    "                    new_args[num] = args[i]\n",
    "        return Expr(e.op, *new_args)\n",
    "\n",
    "    def check_precond(self, kb, args):\n",
    "        \"\"\"Checks if the precondition is satisfied in the current state\"\"\"\n",
    "\n",
    "        if isinstance(kb, list):\n",
    "            kb = FolKB(kb)\n",
    "        for clause in self.precond:\n",
    "            if self.substitute(clause, args) not in kb.clauses:\n",
    "                return False\n",
    "        return True\n",
    "\n",
    "    def act(self, kb, args):\n",
    "        \"\"\"Executes the action on the state's knowledge base\"\"\"\n",
    "\n",
    "        if isinstance(kb, list):\n",
    "            kb = FolKB(kb)\n",
    "\n",
    "        if not self.check_precond(kb, args):\n",
    "            raise Exception('Action pre-conditions not satisfied')\n",
    "        for clause in self.effect:\n",
    "            kb.tell(self.substitute(clause, args))\n",
    "            if clause.op[:3] == 'Not':\n",
    "                new_clause = Expr(clause.op[3:], *clause.args)\n",
    "\n",
    "                if kb.ask(self.substitute(new_clause, args)) is not False:\n",
    "                    kb.retract(self.substitute(new_clause, args))\n",
    "            else:\n",
    "                new_clause = Expr('Not' + clause.op, *clause.args)\n",
    "\n",
    "                if kb.ask(self.substitute(new_clause, args)) is not False:\n",
    "                    kb.retract(self.substitute(new_clause, args))\n",
    "\n",
    "        return kb\n"
   ]
  },
  {
   "cell_type": "markdown",
   "id": "ad3ab2ab-5ab4-4b86-9983-6ed0b0abe429",
   "metadata": {},
   "source": [
    "## Ejemplo: Mono y Bananas\n",
    "\n",
    "Hay un mono en el laboratorio, y quiere bananas. Hay tres ubicaciones\n",
    "en el laboratorio: A, B y C. El mono está en la ubicación A. Hay una caja\n",
    "en la ubicación C. Hay bananas en la ubicación B, pero cuelgan del\n",
    "techo. El mono necesita la caja para alcanzar todas las bananas."
   ]
  },
  {
   "cell_type": "code",
   "execution_count": null,
   "id": "9deac315-4be9-439b-ae98-6e176b5b504b",
   "metadata": {},
   "outputs": [],
   "source": [
    "def monkey_banana():\n",
    "    return PlanningProblem(initial='MonoEn(A) & NivelMono(abajo) & CajaEn(C) & BananasEn(B)', \n",
    "                           goals='MonoTiene(bananas)',\n",
    "                           actions=[Action('Ir(x, y)',\n",
    "                                           precond='MonoEn(x) & NivelMono(abajo)',\n",
    "                                           effect='~MonoEn(x) & MonoEn(y)',\n",
    "                                           domain='Posicion(x) & Posicion(y)'),\n",
    "                                    Action('Trepar(x)',\n",
    "                                           precond='MonoEn(x) & NivelMono(abajo) & CajaEn(x)',\n",
    "                                           effect='~NivelMono(abajo) & NivelMono(arriba)',\n",
    "                                           domain='Posicion(x)'),\n",
    "                                    Action('Bajarse(x)',\n",
    "                                           precond='MonoEn(x) & NivelMono(arriba) & CajaEn(x)',\n",
    "                                           effect='~NivelMono(arriba) & NivelMono(abajo)',\n",
    "                                           domain='Posicion(x)'),\n",
    "                                    Action('LLevarCaja(x,y)',\n",
    "                                           precond='MonoEn(x) & NivelMono(abajo) & CajaEn(x)',\n",
    "                                           effect='~CajaEn(x) & CajaEn(y) & ~MonoEn(x) & MonoEn(y)',\n",
    "                                           domain='Posicion(x) & Posicion(y)'),\n",
    "                                    Action('TomarBananas(x)',\n",
    "                                           precond='MonoEn(x) & NivelMono(arriba) & BananasEn(x) & CajaEn(x)',\n",
    "                                           effect='MonoTiene(bananas)',\n",
    "                                           domain='Posicion(x)'),],\n",
    "                           domain='Posicion(A) & Posicion(B) & Posicion(C)')"
   ]
  },
  {
   "cell_type": "code",
   "execution_count": null,
   "id": "ca421035-68c6-4ea2-8efc-d018f2b5ffc9",
   "metadata": {},
   "outputs": [],
   "source": [
    "def get_solution(problem):\n",
    "    solution = uniform_cost_search(ForwardPlan(problem)).solution()\n",
    "    solution = list(map(lambda action: Expr(action.name, *action.args), solution))\n",
    "    return solution"
   ]
  },
  {
   "cell_type": "code",
   "execution_count": null,
   "id": "1bdd6ff4-e53b-41ce-a924-6dd1b87497e2",
   "metadata": {},
   "outputs": [],
   "source": [
    "get_solution(monkey_banana())"
   ]
  },
  {
   "cell_type": "markdown",
   "id": "3c9e85d6-7222-4842-86ec-eadabb616bd2",
   "metadata": {
    "tags": []
   },
   "source": [
    "## Problema 1: Carga aérea\n",
    "\n",
    "En el problema de la carga aérea, comenzamos con la carga en dos aeropuertos, A y B. Nuestro objetivo es enviar cada carga al otro aeropuerto. Tenemos dos aviones para ayudarnos a realizar la tarea.\n",
    "Tenemos la carga C1, y el avión P1 en el aeropuerto A y la carga C2, y el avión P2 en el aeropuerto B.\n",
    "Nuestro objetivo es tener la carga C1 en el aeropuerto B y la carga C2 en el aeropuerto A."
   ]
  },
  {
   "cell_type": "code",
   "execution_count": null,
   "id": "9e9e143f-5443-414a-a9ba-73664980fd98",
   "metadata": {},
   "outputs": [],
   "source": [
    "def air_cargo():\n",
    "    # TODO: Your code here!\n",
    "    return None"
   ]
  },
  {
   "cell_type": "code",
   "execution_count": null,
   "id": "0154634b-96b1-4796-893d-8145d566da88",
   "metadata": {},
   "outputs": [],
   "source": [
    "get_solution(air_cargo())"
   ]
  },
  {
   "cell_type": "markdown",
   "id": "7c5b1f8e-a582-4177-9a6a-3100c5b319f8",
   "metadata": {
    "tags": []
   },
   "source": [
    "## Problema 2: La rueda de repuesto\n",
    "\n",
    "Consideremos el problema de cambiar un neumático desinflado de un automóvil.\n",
    "El objetivo es montar una rueda de repuesto en el eje del coche, dado que tenemos una rueda pinchada en el eje y una rueda de repuesto en el maletero."
   ]
  },
  {
   "cell_type": "code",
   "execution_count": null,
   "id": "9f9a55e7-4d2e-4f78-bca3-b6b8a4a2ab5f",
   "metadata": {},
   "outputs": [],
   "source": [
    "def spare_tire():\n",
    "    # TODO: Your code here!\n",
    "    return None"
   ]
  },
  {
   "cell_type": "code",
   "execution_count": null,
   "id": "9f87905b-f8b2-49f8-84da-97275a89163b",
   "metadata": {},
   "outputs": [],
   "source": [
    "get_solution(spare_tire())"
   ]
  },
  {
   "cell_type": "markdown",
   "id": "42280869-7fdb-4156-a430-91dedf47f815",
   "metadata": {},
   "source": [
    "## Problema 3: Torre de tres bloques\n",
    "\n",
    "Este problema consiste en un conjunto de bloques en forma de cubo colocados sobre una mesa.\n",
    "Los bloques se pueden apilar, pero solo un bloque puede encajar directamente encima de otro.\n",
    "Un brazo robótico puede levantar un bloque y moverlo a otra posición, ya sea sobre la mesa o encima de otro bloque.\n",
    "El brazo solo puede levantar un bloque a la vez, por lo que no puede levantar un bloque que tenga otro encima.\n",
    "El objetivo siempre será construir una o más pilas de bloques.\n",
    "En nuestro caso, consideramos solo tres bloques.\n",
    "La configuración particular que usaremos se llama anomalía de Sussman en honor al Prof. Gerry Sussman.\n",
    "\n",
    "![](blocks.png)"
   ]
  },
  {
   "cell_type": "code",
   "execution_count": null,
   "id": "51b88d87-b010-4ef6-ad72-e7ff92eab5c1",
   "metadata": {},
   "outputs": [],
   "source": [
    "def three_block_tower():\n",
    "    # TODO: Your code here!\n",
    "    return None"
   ]
  },
  {
   "cell_type": "code",
   "execution_count": null,
   "id": "54d20820-befd-49ee-b830-ee962a4ee66b",
   "metadata": {},
   "outputs": [],
   "source": [
    "get_solution(three_block_tower())"
   ]
  },
  {
   "cell_type": "markdown",
   "id": "103b58ab-9c51-433d-9416-43f5a91031e6",
   "metadata": {},
   "source": [
    "## Problema 4: Compras\n",
    "\n",
    "Se tiene una lista de compras para realizar. Los objetos a comprar son leche, plátanos y un taladro.\n",
    "Inicialmente, partimos de casa y sabemos que en el mercado hay leche y plátanos y en la ferretería venden taladros."
   ]
  },
  {
   "cell_type": "code",
   "execution_count": null,
   "id": "6382569c-3703-46ef-ba97-ecfd685eafc2",
   "metadata": {},
   "outputs": [],
   "source": [
    "def shopping_problem():\n",
    "    # TODO: Your code here!\n",
    "    return None"
   ]
  },
  {
   "cell_type": "code",
   "execution_count": null,
   "id": "3f93f3b0-70bb-42a5-9736-c60c179e8b7f",
   "metadata": {},
   "outputs": [],
   "source": [
    "get_solution(shopping_problem())"
   ]
  },
  {
   "cell_type": "code",
   "execution_count": null,
   "id": "808a4936-4899-43bb-b75e-0af505437fb8",
   "metadata": {},
   "outputs": [],
   "source": []
  }
 ],
 "metadata": {
  "kernelspec": {
   "display_name": "Python 3.10.7 64-bit",
   "language": "python",
   "name": "python3"
  },
  "language_info": {
   "codemirror_mode": {
    "name": "ipython",
    "version": 3
   },
   "file_extension": ".py",
   "mimetype": "text/x-python",
   "name": "python",
   "nbconvert_exporter": "python",
   "pygments_lexer": "ipython3",
   "version": "3.10.7"
  },
  "vscode": {
   "interpreter": {
    "hash": "aee8b7b246df8f9039afb4144a1f6fd8d2ca17a180786b69acc140d282b71a49"
   }
  }
 },
 "nbformat": 4,
 "nbformat_minor": 5
}
