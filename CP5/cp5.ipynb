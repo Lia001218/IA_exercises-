{
 "cells": [
  {
   "cell_type": "markdown",
   "id": "0b962d20-c92f-4944-b6d4-ef13cdbc0ec2",
   "metadata": {},
   "source": [
    "# Clase Práctica 5: Metaheurísticas\n",
    "---"
   ]
  },
  {
   "cell_type": "markdown",
   "id": "6c79c0be-ab8b-4a07-8bcf-993024c8b866",
   "metadata": {},
   "source": [
    "## Problema"
   ]
  },
  {
   "cell_type": "markdown",
   "id": "099f6e13-c9a2-4977-a251-7ce4ec51f277",
   "metadata": {},
   "source": [
    "Como ejemplo estaremos resolviendo el problema del viajante (Travelling salesman problem) que requiere encontrar el camino cerrado más corto entre un conjunto de lugares."
   ]
  },
  {
   "cell_type": "markdown",
   "id": "9efbd400-f5e2-4033-a303-ca26e633318d",
   "metadata": {},
   "source": [
    "# Colonia de Hormigas (Ant Colony Optimization)"
   ]
  },
  {
   "cell_type": "markdown",
   "id": "509b58ec-003a-456a-96f7-eaaf1e2497fa",
   "metadata": {},
   "source": [
    "Ant Colony Optimization (ACO) es un algoritmo de optimización utilizado para encontrar el camino más corto entre puntos o nodos. Se desarrolla observando el comportamiento de las hormigas cuando siguen un camino hacia su fuente de alimento. Las hormigas son esencialmente ciegas, por lo que siguen los rastros de feromonas que dejan otras hormigas en el camino.\n",
    "Este algoritmo sigue el mismo enfoque utilizando la probabilidad de ir al siguiente nodo como la distancia al nodo y la cantidad de feromonas."
   ]
  },
  {
   "cell_type": "markdown",
   "id": "0a29e50d-892b-4499-887f-d836f2a950fd",
   "metadata": {},
   "source": [
    "## Algoritmo"
   ]
  },
  {
   "cell_type": "markdown",
   "id": "5f5f8726-41b2-4702-9aa5-f6ba8da2b362",
   "metadata": {},
   "source": [
    "### 1. Movimiento de las hormigas según probabilidad"
   ]
  },
  {
   "cell_type": "markdown",
   "id": "b8a2fc17-8006-4ffa-9572-167e26c83692",
   "metadata": {},
   "source": [
    "Para cada una de las hormigas completamos un camino cerrado, es decir, desde el inicio, cubriendo todos los nodos y sin repetir ninguno de los nodos.\n",
    "Para mover una hormiga de un nodo al siguiente usamos la siguiente fórmula:\n",
    "$$P_{ij}(t)=\\frac{\\tau_{ij}^\\alpha + \\eta_{ij}^\\beta}{\\sum (\\tau^\\alpha + \\eta^\\beta)} $$\n",
    "Donde $\\tau$ es la cantidad de feromonas y $\\eta$ es el inverso de la distancia, es decir, $1/d$\n",
    "$\\alpha$ y $\\beta$ son hiperparámetros del algoritmo. Se utilizan para dar más o menos peso a la distancia o a las feromonas a la hora de seleccionar el siguiente nodo. Mayor $\\alpha$ hace que la hormiga dependa más de la distancia y mayor $\\beta$ hace que la hormiga dependa más de las feromonas."
   ]
  },
  {
   "cell_type": "markdown",
   "id": "794c5d08-f91f-46f3-9511-ecd2859c156a",
   "metadata": {},
   "source": [
    "### 2. Depositar las feromonas"
   ]
  },
  {
   "cell_type": "markdown",
   "id": "1b87de63-a19a-4e87-af81-0f38f4860046",
   "metadata": {},
   "source": [
    "Cuando una hormiga se mueve de un nodo al siguiente, deja un rastro para que lo siga la próxima hormiga, cuantas más hormigas sigan el mismo camino, más fuerte será el rastro de feromonas. Las estelas de feromonas se incrementan en:\n",
    "\n",
    "$$\\tau^{(i+1)} = \\tau^i + \\Delta\\tau $$ \n",
    "\n",
    "Donde $\\Delta\\tau$ (*delta_tau*) es un parámetro e $i$ es el número de iteraciones."
   ]
  },
  {
   "cell_type": "markdown",
   "id": "4ccef361-6a14-43df-9518-4e43604b9826",
   "metadata": {},
   "source": [
    "### 3. Evaporación de las feromonas"
   ]
  },
  {
   "cell_type": "markdown",
   "id": "abe08d46-1820-4176-8742-7848a25718a8",
   "metadata": {},
   "source": [
    "Después de cada iteración, las feromonas también tienden a evaporarse. La evaporación de las feromonas se da como:\n",
    "$$\\tau^{(i+1)} = (1 - \\rho)\\tau^i $$ \n",
    "donde $\\rho$ es la tasa de evaporación."
   ]
  },
  {
   "cell_type": "markdown",
   "id": "2af4f6c4-405b-4d92-b316-8278bf5ef475",
   "metadata": {},
   "source": [
    "### 4. Condición de parada"
   ]
  },
  {
   "cell_type": "markdown",
   "id": "3a2506a6-72cb-470a-bb00-989c0210709e",
   "metadata": {},
   "source": [
    "Podemos usar cualquier condición para finalizar la búsqueda, como una distancia por debajo de un cierto umbral o el número de iteraciones."
   ]
  },
  {
   "cell_type": "code",
   "execution_count": 5,
   "id": "c4c8c019-8b5e-480d-8fff-988e2a646731",
   "metadata": {},
   "outputs": [],
   "source": [
    "import random as rn\n",
    "import numpy as np\n",
    "from numpy.random import choice as np_choice\n",
    "\n",
    "class AntColony(object):\n",
    "\n",
    "    def __init__(self, distances, n_ants, n_iterations, decay, alpha=1, beta=0.5, delta_tau = 2):\n",
    "        self.distances  = distances\n",
    "        self.pheromone = np.zeros(self.distances.shape)\n",
    "        self.n_ants = n_ants\n",
    "        self.n_iterations = n_iterations\n",
    "        self.decay = decay\n",
    "        self.alpha = alpha\n",
    "        self.beta = beta\n",
    "        self.delta_tau = delta_tau\n",
    "        \n",
    "    def run(self):\n",
    "        shortest_path = None\n",
    "        all_time_shortest_path = (-1, \"placeholder\", np.inf)\n",
    "        \n",
    "        for i in range(self.n_iterations):\n",
    "            all_paths = self.gen_all_paths()\n",
    "            self.spread_pheronome(all_paths)\n",
    "            shortest_path = min(all_paths, key=lambda x: x[1])\n",
    "            \n",
    "            if shortest_path[1] < all_time_shortest_path[2]:\n",
    "                all_time_shortest_path = (i, *shortest_path)    \n",
    "            \n",
    "            if i%10==0: print(i,  \"mean: \", mean([path[1] for path in all_paths]), \"best_iteration_solution: \", shortest_path ,\"best_global_solution: \", all_time_shortest_path)\n",
    "            \n",
    "        return all_time_shortest_path\n",
    "\n",
    "    def spread_pheronome(self, all_paths):\n",
    "        self.evaporate_pheromone()\n",
    "        for path, dist in all_paths:\n",
    "            for i in range(len(path)-1):\n",
    "                self.pheromone[path[i], path[i+1]] += self.delta_tau/dist\n",
    "        return None\n",
    "\n",
    "    def path_dist(self, path):\n",
    "        dist = 0\n",
    "        for i in range(len(path)-1):\n",
    "            dist += self.distances[path[i], path[i+1]]\n",
    "        return dist\n",
    "\n",
    "\n",
    "    def gen_all_paths(self):\n",
    "        all_paths = []\n",
    "        for i in range(self.n_ants):\n",
    "            path = self.gen_path(0)\n",
    "            all_paths.append((path, self.path_dist(path)))\n",
    "        return all_paths\n",
    "\n",
    "    def gen_path(self, start):\n",
    "        path = [start]\n",
    "        visited = [start]\n",
    "        while len(visited) < self.distances.shape[0]:\n",
    "            move = self.pick_move(self.pheromone, self.distances, visited)\n",
    "            path.append(move)\n",
    "            visited.append(move)\n",
    "        return path\n",
    "\n",
    "    def pick_move(self, pheromone, dist, visited):\n",
    "        pheromone = pheromone[visited[-1], :]\n",
    "        pheromone[visited] = 0\n",
    "        pheromone = pheromone**self.alpha\n",
    "        dist = dist[visited[-1], :]\n",
    "        dist[visited] = np.inf\n",
    "        dist = dist**self.beta\n",
    "        probs = pheromone/dist\n",
    "        probs = probs/sum(probs)\n",
    "        move = np_choice(range(len(probs)), p=probs)\n",
    "        return move\n",
    "    \n",
    "    def evaporate_pheromone(self):\n",
    "        self.pheromone = self.pheromone * self.decay\n",
    "        return None\n"
   ]
  },
  {
   "cell_type": "code",
   "execution_count": 6,
   "id": "8c5125c9-f11c-4257-8c6f-fdaf48b6c2de",
   "metadata": {},
   "outputs": [],
   "source": [
    "distances = np.array([[np.inf, 2, 2, 5, 7],\n",
    "\n",
    "                      [2, np.inf, 4, 8, 2],\n",
    "\n",
    "                      [2, 4, np.inf, 1, 3],\n",
    "\n",
    "                      [5, 8, 1, np.inf, 2],\n",
    "\n",
    "                      [7, 2, 3, 2, np.inf]])"
   ]
  },
  {
   "cell_type": "code",
   "execution_count": 7,
   "id": "5a62dc0e-169e-4070-b4f3-b733abbf6d5f",
   "metadata": {},
   "outputs": [],
   "source": [
    "ant_colony = AntColony(distances, 5, 100, 0.95, alpha=1, beta=1, delta_tau = 2)"
   ]
  },
  {
   "cell_type": "code",
   "execution_count": 8,
   "id": "b20e7968-5a94-409a-96c2-7e05db82571f",
   "metadata": {},
   "outputs": [
    {
     "name": "stderr",
     "output_type": "stream",
     "text": [
      "/var/folders/cm/y1ylnx7j2xzd3ty4g05zq63w0000gn/T/ipykernel_7194/893830802.py:71: RuntimeWarning: invalid value encountered in divide\n",
      "  probs = probs/sum(probs)\n"
     ]
    },
    {
     "ename": "ValueError",
     "evalue": "probabilities contain NaN",
     "output_type": "error",
     "traceback": [
      "\u001b[0;31m---------------------------------------------------------------------------\u001b[0m",
      "\u001b[0;31mValueError\u001b[0m                                Traceback (most recent call last)",
      "Cell \u001b[0;32mIn [8], line 1\u001b[0m\n\u001b[0;32m----> 1\u001b[0m ant_colony\u001b[38;5;241m.\u001b[39mrun()\n",
      "Cell \u001b[0;32mIn [5], line 22\u001b[0m, in \u001b[0;36mAntColony.run\u001b[0;34m(self)\u001b[0m\n\u001b[1;32m     19\u001b[0m all_time_shortest_path \u001b[38;5;241m=\u001b[39m (\u001b[38;5;241m-\u001b[39m\u001b[38;5;241m1\u001b[39m, \u001b[38;5;124m\"\u001b[39m\u001b[38;5;124mplaceholder\u001b[39m\u001b[38;5;124m\"\u001b[39m, np\u001b[38;5;241m.\u001b[39minf)\n\u001b[1;32m     21\u001b[0m \u001b[38;5;28;01mfor\u001b[39;00m i \u001b[38;5;129;01min\u001b[39;00m \u001b[38;5;28mrange\u001b[39m(\u001b[38;5;28mself\u001b[39m\u001b[38;5;241m.\u001b[39mn_iterations):\n\u001b[0;32m---> 22\u001b[0m     all_paths \u001b[38;5;241m=\u001b[39m \u001b[38;5;28;43mself\u001b[39;49m\u001b[38;5;241;43m.\u001b[39;49m\u001b[43mgen_all_paths\u001b[49m\u001b[43m(\u001b[49m\u001b[43m)\u001b[49m\n\u001b[1;32m     23\u001b[0m     \u001b[38;5;28mself\u001b[39m\u001b[38;5;241m.\u001b[39mspread_pheronome(all_paths)\n\u001b[1;32m     24\u001b[0m     shortest_path \u001b[38;5;241m=\u001b[39m \u001b[38;5;28mmin\u001b[39m(all_paths, key\u001b[38;5;241m=\u001b[39m\u001b[38;5;28;01mlambda\u001b[39;00m x: x[\u001b[38;5;241m1\u001b[39m])\n",
      "Cell \u001b[0;32mIn [5], line 50\u001b[0m, in \u001b[0;36mAntColony.gen_all_paths\u001b[0;34m(self)\u001b[0m\n\u001b[1;32m     48\u001b[0m all_paths \u001b[38;5;241m=\u001b[39m []\n\u001b[1;32m     49\u001b[0m \u001b[38;5;28;01mfor\u001b[39;00m i \u001b[38;5;129;01min\u001b[39;00m \u001b[38;5;28mrange\u001b[39m(\u001b[38;5;28mself\u001b[39m\u001b[38;5;241m.\u001b[39mn_ants):\n\u001b[0;32m---> 50\u001b[0m     path \u001b[38;5;241m=\u001b[39m \u001b[38;5;28;43mself\u001b[39;49m\u001b[38;5;241;43m.\u001b[39;49m\u001b[43mgen_path\u001b[49m\u001b[43m(\u001b[49m\u001b[38;5;241;43m0\u001b[39;49m\u001b[43m)\u001b[49m\n\u001b[1;32m     51\u001b[0m     all_paths\u001b[38;5;241m.\u001b[39mappend((path, \u001b[38;5;28mself\u001b[39m\u001b[38;5;241m.\u001b[39mpath_dist(path)))\n\u001b[1;32m     52\u001b[0m \u001b[38;5;28;01mreturn\u001b[39;00m all_paths\n",
      "Cell \u001b[0;32mIn [5], line 58\u001b[0m, in \u001b[0;36mAntColony.gen_path\u001b[0;34m(self, start)\u001b[0m\n\u001b[1;32m     56\u001b[0m visited \u001b[38;5;241m=\u001b[39m [start]\n\u001b[1;32m     57\u001b[0m \u001b[38;5;28;01mwhile\u001b[39;00m \u001b[38;5;28mlen\u001b[39m(visited) \u001b[38;5;241m<\u001b[39m \u001b[38;5;28mself\u001b[39m\u001b[38;5;241m.\u001b[39mdistances\u001b[38;5;241m.\u001b[39mshape[\u001b[38;5;241m0\u001b[39m]:\n\u001b[0;32m---> 58\u001b[0m     move \u001b[38;5;241m=\u001b[39m \u001b[38;5;28;43mself\u001b[39;49m\u001b[38;5;241;43m.\u001b[39;49m\u001b[43mpick_move\u001b[49m\u001b[43m(\u001b[49m\u001b[38;5;28;43mself\u001b[39;49m\u001b[38;5;241;43m.\u001b[39;49m\u001b[43mpheromone\u001b[49m\u001b[43m,\u001b[49m\u001b[43m \u001b[49m\u001b[38;5;28;43mself\u001b[39;49m\u001b[38;5;241;43m.\u001b[39;49m\u001b[43mdistances\u001b[49m\u001b[43m,\u001b[49m\u001b[43m \u001b[49m\u001b[43mvisited\u001b[49m\u001b[43m)\u001b[49m\n\u001b[1;32m     59\u001b[0m     path\u001b[38;5;241m.\u001b[39mappend(move)\n\u001b[1;32m     60\u001b[0m     visited\u001b[38;5;241m.\u001b[39mappend(move)\n",
      "Cell \u001b[0;32mIn [5], line 72\u001b[0m, in \u001b[0;36mAntColony.pick_move\u001b[0;34m(self, pheromone, dist, visited)\u001b[0m\n\u001b[1;32m     70\u001b[0m probs \u001b[38;5;241m=\u001b[39m pheromone\u001b[38;5;241m/\u001b[39mdist\n\u001b[1;32m     71\u001b[0m probs \u001b[38;5;241m=\u001b[39m probs\u001b[38;5;241m/\u001b[39m\u001b[38;5;28msum\u001b[39m(probs)\n\u001b[0;32m---> 72\u001b[0m move \u001b[38;5;241m=\u001b[39m \u001b[43mnp_choice\u001b[49m\u001b[43m(\u001b[49m\u001b[38;5;28;43mrange\u001b[39;49m\u001b[43m(\u001b[49m\u001b[38;5;28;43mlen\u001b[39;49m\u001b[43m(\u001b[49m\u001b[43mprobs\u001b[49m\u001b[43m)\u001b[49m\u001b[43m)\u001b[49m\u001b[43m,\u001b[49m\u001b[43m \u001b[49m\u001b[43mp\u001b[49m\u001b[38;5;241;43m=\u001b[39;49m\u001b[43mprobs\u001b[49m\u001b[43m)\u001b[49m\n\u001b[1;32m     73\u001b[0m \u001b[38;5;28;01mreturn\u001b[39;00m move\n",
      "File \u001b[0;32mmtrand.pyx:935\u001b[0m, in \u001b[0;36mnumpy.random.mtrand.RandomState.choice\u001b[0;34m()\u001b[0m\n",
      "\u001b[0;31mValueError\u001b[0m: probabilities contain NaN"
     ]
    }
   ],
   "source": [
    "ant_colony.run()"
   ]
  },
  {
   "cell_type": "markdown",
   "id": "acf2b2a0-48b2-4328-9ec8-1123d3e12fa2",
   "metadata": {},
   "source": [
    "# Recocido Simulado (Simulated Annealing)"
   ]
  },
  {
   "cell_type": "markdown",
   "id": "6bf7103d-3271-41ca-9aba-3ca565789a82",
   "metadata": {},
   "source": [
    "La noción de enfriamiento lento implementada en el algoritmo de recocido simulado se interpreta como una disminución lenta en la probabilidad de aceptar peores soluciones a medida que se explora el espacio de soluciones. Aceptar peores soluciones permite una búsqueda más extensa de la solución óptima global. En general, los algoritmos de recocido simulado funcionan de la siguiente manera. La temperatura desciende progresivamente desde un valor inicial positivo hasta cero. En cada paso de tiempo, el algoritmo selecciona aleatoriamente una solución cercana a la actual, mide su calidad y se mueve hacia ella de acuerdo con las probabilidades dependientes de la temperatura de seleccionar mejores o peores soluciones, que durante la búsqueda permanecen respectivamente en 1 (o positivo). ) y disminuye hacia cero."
   ]
  },
  {
   "cell_type": "markdown",
   "id": "cd40204e-dd09-4e2b-951f-244c026216dd",
   "metadata": {},
   "source": [
    "Para la implementacion nos apoyamos de las siguientes funciones:"
   ]
  },
  {
   "cell_type": "markdown",
   "id": "ff4b8540-59f6-42fd-a16a-b40247361a0c",
   "metadata": {},
   "source": [
    "## Sucesor\n",
    "\n",
    "Toma un estado y devuelve un nuevo estado aleatorio después de hacer alguna transformación al estado anterior. Una propiedad importante de la función sucesor es que no cambia demasiado la respuesta. Otra propiedad importante es que debería ser posible llevar cualquier estado a cualquier otro estado en un número corto de pasos."
   ]
  },
  {
   "cell_type": "markdown",
   "id": "cb16d1a4-a428-4c71-a7cc-71687091c0be",
   "metadata": {},
   "source": [
    "## Temperatura\n",
    "\n",
    "La función de temperatura decide qué tan \"dispuesto\" estará el algoritmo para pasar a un estado peor. En otras palabras, si la temperatura es 0, solo se movería a mejores estados (lo que se convierte en el algoritmo de hill climbing). Si la temperatura es infinita, te moverías a cualquier estado, sin importar qué tan bueno o malo sea. En el recocido simulado, desea que la temperatura pase de algo alto a algo bajo. Inicialmente, desea poder explorar los diferentes estados posibles, de modo que tenga una mejor oportunidad de alcanzar el mínimo global. Al final, desea seguir tomando mejores y mejores estados, esperando que ya esté cerca del mínimo global. Hay 3 reglas comunes de reducción de temperatura:\n",
    "\n",
    "- $ t=t⋅a $\n",
    "- $ t=t−a $\n",
    "- $ t=t /(1+a⋅t) $\n",
    "\n",
    "donde $a$ es un parámetro.\n",
    "\n",
    "Una de las más comunes es la primera, empezando con valores de $t_0 = 10^9$\n",
    "o $t_0 = 10^5$ y $a=0.99999$."
   ]
  },
  {
   "cell_type": "markdown",
   "id": "7dcaea2e-f537-4088-b4da-7d0958447d8d",
   "metadata": {},
   "source": [
    "## Probabilidad de aceptación\n",
    "\n",
    "La más usada para recocido simulado es [Metropolis-Hastings Algorithm](!https://en.wikipedia.org/wiki/Metropolis%E2%80%93Hastings_algorithm) que se calcula de la siguiente forma:\n",
    "```\n",
    "def P(old, new, temp):\n",
    "    if new < old:\n",
    "        return 1.0\n",
    "    return exp((old-new)/temp)\n",
    "```\n",
    "donde `old` y `new` son los valores de fitness del actual estado y el sucesor respectivamente"
   ]
  },
  {
   "cell_type": "code",
   "execution_count": null,
   "id": "5c560a71-4f1b-47c4-9916-b5e10d10dde8",
   "metadata": {},
   "outputs": [],
   "source": [
    "import random\n",
    "import math\n",
    "\n",
    "class SimulatedAnnealing(object):\n",
    "\n",
    "    def __init__(self, distances, n_iterations, a = 0.99, t_0= 10**9):\n",
    "        self.distances  = distances\n",
    "        self.n_iterations = n_iterations\n",
    "        self.a = a\n",
    "        self.t_0 = t_0\n",
    "        \n",
    "    def run(self):\n",
    "        current_path = self.gen_random_path()\n",
    "        all_time_shortest_path = (-1, \"placeholder\", np.inf)\n",
    "        t = self.t_0\n",
    "        \n",
    "        for i in range(self.n_iterations):\n",
    "            next_path = self.succesor(current_path)\n",
    "            print(next_path)\n",
    "            if self.path_dist(current_path) < all_time_shortest_path[2]:\n",
    "                all_time_shortest_path = (i, current_path ,self.path_dist(current_path))  \n",
    "            \n",
    "            if self.acceptance_probability(self.path_dist(current_path), self.path_dist(next_path), t) >= random.random():\n",
    "                path = next\n",
    "                \n",
    "            t = self.temperature(t)\n",
    "            \n",
    "            print(i, \"best_solution: \", all_time_shortest_path)\n",
    "            \n",
    "        return all_time_shortest_path\n",
    "    \n",
    "    def path_dist(self, path):\n",
    "        #TODO: Your code here!\n",
    "        return None\n",
    "\n",
    "    def gen_random_path(self):\n",
    "        #TODO: Your code here!\n",
    "        return None\n",
    "                         \n",
    "    def temperature(self, t):\n",
    "        #TODO: Your code here!\n",
    "        return None\n",
    "                         \n",
    "    def acceptance_probability(self, current_dist, next_dist, temp):\n",
    "        #TODO: Your code here!\n",
    "        return None\n",
    "    \n",
    "    def succesor(self, path):\n",
    "        #TODO: Your code here!\n",
    "        return None\n",
    "        "
   ]
  },
  {
   "cell_type": "code",
   "execution_count": null,
   "id": "472bc25b-ff53-4048-a134-6b054b3b0200",
   "metadata": {},
   "outputs": [],
   "source": [
    "sa = SimulatedAnnealing(distances, 100)"
   ]
  },
  {
   "cell_type": "code",
   "execution_count": null,
   "id": "b2f5866a-fed4-4452-a24c-9133eece56b0",
   "metadata": {},
   "outputs": [],
   "source": [
    "sa.run()"
   ]
  }
 ],
 "metadata": {
  "kernelspec": {
   "display_name": "Python 3.10.7 64-bit",
   "language": "python",
   "name": "python3"
  },
  "language_info": {
   "codemirror_mode": {
    "name": "ipython",
    "version": 3
   },
   "file_extension": ".py",
   "mimetype": "text/x-python",
   "name": "python",
   "nbconvert_exporter": "python",
   "pygments_lexer": "ipython3",
   "version": "3.10.7"
  },
  "vscode": {
   "interpreter": {
    "hash": "aee8b7b246df8f9039afb4144a1f6fd8d2ca17a180786b69acc140d282b71a49"
   }
  }
 },
 "nbformat": 4,
 "nbformat_minor": 5
}
