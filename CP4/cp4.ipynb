{
 "cells": [
  {
   "cell_type": "markdown",
   "id": "4e42a4a9-c7b2-47df-a477-b29aa9947925",
   "metadata": {},
   "source": [
    "# Clase Práctica 4: Metaheurísticas\n",
    "---"
   ]
  },
  {
   "cell_type": "markdown",
   "id": "a9da56d0-c5bd-49c3-b6d1-e56c497facf2",
   "metadata": {},
   "source": [
    "## Problema"
   ]
  },
  {
   "cell_type": "markdown",
   "id": "96c9a2f9-8f70-4864-bf38-3fb33b5c8715",
   "metadata": {},
   "source": [
    "En un restaurante se reciben a diario un conjunto de pedidos. Para cada uno de estos pedidos se conoce cuánto demora su preparación. Los clientes necesitan que su pedido esté listo antes de un tiempo determinado y el dueño del restaurante quiere saber en qué orden procesar los pedidos de manera que pueda complacer a los clientes.  "
   ]
  },
  {
   "cell_type": "code",
   "execution_count": 105,
   "id": "376ac118-be53-4e2b-93b5-728208106436",
   "metadata": {
    "tags": []
   },
   "outputs": [],
   "source": [
    "#TODO: Your code here!\n"
   ]
  },
  {
   "cell_type": "markdown",
   "id": "1b475382-99c7-4436-bf4c-566cd471a2ad",
   "metadata": {},
   "source": [
    "## Algoritmo Genético"
   ]
  },
  {
   "cell_type": "markdown",
   "id": "011b013b-b81b-4d97-a780-6a6dbf2f1c68",
   "metadata": {},
   "source": [
    "### Elementos a tener en cuenta en la solución de problemas con algoritmos genéticos\n",
    "\n",
    "* **Representación de los individuos**.\n",
    "* **Evaluación**.\n",
    "* **Selección**, establece un orden parcial de individuos en la población tomando como referencia el valor de su función de fitness y determina el grado en que los individuos de la población participarán en la generación de nuevos (descendientes) individuos.\n",
    "* **Variación**, aplica una variedad de operadores inspirados en la evolución, como cruce, mutación, etc., para sintetizar descendientes de la población actual (padres). Se supone que este proceso prepara a los individuos más aptos para que desempeñen un papel más importante en la generación de la descendencia.\n",
    "* **Criterio de parada**, determina cuándo se debe detener el algoritmo."
   ]
  },
  {
   "cell_type": "markdown",
   "id": "2c38ec28-ec07-4084-8a28-de43514606a6",
   "metadata": {},
   "source": [
    "![](ga.png)"
   ]
  },
  {
   "cell_type": "markdown",
   "id": "dc95db94-aa3a-48b2-9660-033635ed0db6",
   "metadata": {},
   "source": [
    "### 1 - Crear la primera población"
   ]
  },
  {
   "cell_type": "code",
   "execution_count": 106,
   "id": "ddc379a0-e16c-455d-9948-94ff3d617e29",
   "metadata": {
    "tags": []
   },
   "outputs": [],
   "source": [
    "import numpy as np\n",
    "\n",
    "def initialize_population(pop_size):\n",
    "    population_set = []\n",
    "    \n",
    "    for i in range(pop_size):\n",
    "        sol_i = None #TODO: Your code here!\n",
    "        \n",
    "        \n",
    "        population_set.append(sol_i)\n",
    "        \n",
    "    return np.array(population_set)"
   ]
  },
  {
   "cell_type": "markdown",
   "id": "32ad8a13-9667-4e61-ab86-26978a289c34",
   "metadata": {},
   "source": [
    "### 2 - Evaluación"
   ]
  },
  {
   "cell_type": "code",
   "execution_count": 107,
   "id": "956b9316-fd22-4820-9ad4-52fad80dc2ee",
   "metadata": {
    "tags": []
   },
   "outputs": [],
   "source": [
    "def fitness_eval(x):\n",
    "    #TODO: Your code here!\n",
    "    return None"
   ]
  },
  {
   "cell_type": "code",
   "execution_count": 108,
   "id": "a866c7df-46fe-497f-b747-bc9151e1c493",
   "metadata": {
    "tags": []
   },
   "outputs": [],
   "source": [
    "def get_all_fitnes(population_set, pop_size):\n",
    "    fitnes_list = np.zeros(pop_size)\n",
    "\n",
    "    #Looping over all solutions computing the fitness for each solution\n",
    "    for i in  range(pop_size):\n",
    "        fitnes_list[i] = fitness_eval(population_set[i])\n",
    "\n",
    "    return fitnes_list"
   ]
  },
  {
   "cell_type": "markdown",
   "id": "8052709e-513c-453a-910f-bc8a3d723e2d",
   "metadata": {},
   "source": [
    "### 3 - Selección"
   ]
  },
  {
   "cell_type": "markdown",
   "id": "14c6ba74-2ac0-4e43-895b-5e5949c3bada",
   "metadata": {},
   "source": [
    "Crear dos listas de progenitores del tamaño de la población que indican que los progenitores en igual índice de ambas listas van a ser apareados."
   ]
  },
  {
   "cell_type": "code",
   "execution_count": 109,
   "id": "d63e62a7-338d-4cb2-8a97-f3b4ed3e92b9",
   "metadata": {
    "tags": []
   },
   "outputs": [],
   "source": [
    "def progenitor_selection(population_set,fitnes_list):\n",
    "    #TODO: Your code here!\n",
    "    \n",
    "    progenitor_list_a = None #TODO: Your code here!\n",
    "    progenitor_list_b = None #TODO: Your code here!\n",
    "    \n",
    "    return np.array([progenitor_list_a,progenitor_list_b])"
   ]
  },
  {
   "cell_type": "markdown",
   "id": "b300385d-f773-451c-b33b-fbb7c4493e86",
   "metadata": {},
   "source": [
    "### 4 - Variación"
   ]
  },
  {
   "cell_type": "code",
   "execution_count": 110,
   "id": "87963fd7-1468-49f7-8eb2-4d8205995cab",
   "metadata": {
    "tags": []
   },
   "outputs": [],
   "source": [
    "def mate_progenitors(prog_a, prog_b):\n",
    "    #TODO: Your code here!\n",
    "    \n",
    "def mate_population(progenitor_list):\n",
    "    new_population_set = []\n",
    "    for i in range(progenitor_list.shape[1]):\n",
    "        prog_a, prog_b = progenitor_list[0][i], progenitor_list[1][i]\n",
    "        offspring = mate_progenitors(prog_a, prog_b)\n",
    "        new_population_set.append(offspring)\n",
    "        \n",
    "    return new_population_set"
   ]
  },
  {
   "cell_type": "code",
   "execution_count": 111,
   "id": "132a657f-557f-4369-b221-0516f509c2d2",
   "metadata": {
    "tags": []
   },
   "outputs": [],
   "source": [
    "def mutate_offspring(offspring, mutation_rate):\n",
    "    #TODO: Your code here!\n",
    "    return None\n",
    "    \n",
    "def mutate_population(new_population_set, mutation_rate):\n",
    "    mutated_pop = []\n",
    "    for offspring in new_population_set:\n",
    "        mutated_pop.append(mutate_offspring(offspring, mutation_rate))\n",
    "    return np.array(mutated_pop)"
   ]
  },
  {
   "cell_type": "markdown",
   "id": "90b3973f-9515-41db-8f32-7f1af5dc6a40",
   "metadata": {},
   "source": [
    "### 5 - Criterio de parada"
   ]
  },
  {
   "cell_type": "code",
   "execution_count": 112,
   "id": "25e324bf-0481-497d-a3b9-312e090d188d",
   "metadata": {
    "tags": []
   },
   "outputs": [],
   "source": [
    "def stop_criterion(t):\n",
    "    return t >= 10000 "
   ]
  },
  {
   "cell_type": "code",
   "execution_count": 113,
   "id": "ba1c78b7-507f-4b41-9541-2ea243878278",
   "metadata": {
    "tags": []
   },
   "outputs": [],
   "source": [
    "def evolutionary_algorithm(pop_size = 100, mutation_rate = 0.3):  \n",
    "    populations = []\n",
    "    best_solution = [-1,np.inf,np.array([])] #[iteration, fitness, solution]\n",
    "    \n",
    "    populations.append(initialize_population(pop_size))\n",
    "    t = 0\n",
    "    \n",
    "    while not stop_criterion(t):\n",
    "        fitnes_list = get_all_fitnes(populations[t], pop_size)\n",
    "        if t%100==0: print(t,  \"fitness_mean: \", fitnes_list.mean(), \"best_solution: \", best_solution)\n",
    "            \n",
    "        #Saving the best solution\n",
    "        if fitnes_list.min() < best_solution[1]:\n",
    "            best_solution[0] = t\n",
    "            best_solution[1] = fitnes_list.min()\n",
    "            best_solution[2] = np.array(populations[t])[fitnes_list.min() == fitnes_list]\n",
    "    \n",
    "        progenitor_list = progenitor_selection(populations[t],fitnes_list)\n",
    "        new_population_set = mate_population(progenitor_list)\n",
    "        mutated_pop = mutate_population(new_population_set, mutation_rate)\n",
    "        t = t+1\n",
    "        \n",
    "        populations.append(mutated_pop)\n",
    "    \n",
    "    return best_solution"
   ]
  },
  {
   "cell_type": "code",
   "execution_count": null,
   "id": "79ec198a-ad80-49a9-a5d9-4752ec82bc28",
   "metadata": {
    "tags": []
   },
   "outputs": [],
   "source": [
    "evolutionary_algorithm()"
   ]
  }
 ],
 "metadata": {
  "kernelspec": {
   "display_name": "Python 3.10.7 64-bit",
   "language": "python",
   "name": "python3"
  },
  "language_info": {
   "codemirror_mode": {
    "name": "ipython",
    "version": 3
   },
   "file_extension": ".py",
   "mimetype": "text/x-python",
   "name": "python",
   "nbconvert_exporter": "python",
   "pygments_lexer": "ipython3",
   "version": "3.10.7"
  },
  "vscode": {
   "interpreter": {
    "hash": "aee8b7b246df8f9039afb4144a1f6fd8d2ca17a180786b69acc140d282b71a49"
   }
  }
 },
 "nbformat": 4,
 "nbformat_minor": 5
}
