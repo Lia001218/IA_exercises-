{
 "cells": [
  {
   "cell_type": "markdown",
   "id": "d17034cd-37b6-4293-a098-09e6a0f89af0",
   "metadata": {},
   "source": [
    "# Clase Práctica 2: Búsqueda Adversarial\n",
    "---"
   ]
  },
  {
   "cell_type": "markdown",
   "id": "8b5b7bbb-b649-4344-86ca-e963b670d004",
   "metadata": {},
   "source": [
    "Definimos la clase abstracta `Game`, para juegos de turnos de *n* jugadores. Se basa en el concepto de un \"estado\"  del juego `state`. Por ahora, todo lo que necesitamos es que un estado tenga un atributo `state.to_move`, que da el nombre del jugador del cual es el turno. (\"Nombre\" será algo así como `'X'` o `'O'` para tic-tac-toe.)\n",
    "\n",
    "También definimos `play_game`, que toma un juego y un diccionario de pares `{jugador:strategia}`, y juega el juego, en cada turno comprobando `state.to_move` para ver de quién es el turno, y luego obteniendo la función de estrategia para ese jugador y aplicarla al juego y al estado para obtener un movimiento."
   ]
  },
  {
   "cell_type": "code",
   "execution_count": 4,
   "id": "22e149af-f89c-4c78-935a-68432bd6f6b6",
   "metadata": {},
   "outputs": [],
   "source": [
    "class Game:\n",
    "    \"\"\"A game is similar to a problem, but it has a terminal test instead of \n",
    "    a goal test, and a utility for each terminal state. To create a game, \n",
    "    subclass this class and implement `actions`, `result`, `is_terminal`, \n",
    "    and `utility`. You will also need to set the .initial attribute to the \n",
    "    initial state; this can be done in the constructor.\"\"\"\n",
    "\n",
    "    def actions(self, state):\n",
    "        \"\"\"Return a collection of the allowable moves from this state.\"\"\"\n",
    "        raise NotImplementedError\n",
    "\n",
    "    def result(self, state, move):\n",
    "        \"\"\"Return the state that results from making a move from a state.\"\"\"\n",
    "        raise NotImplementedError\n",
    "\n",
    "    def is_terminal(self, state):\n",
    "        \"\"\"Return True if this is a final state for the game.\"\"\"\n",
    "        return not self.actions(state)\n",
    "    \n",
    "    def utility(self, state, player):\n",
    "        \"\"\"Return the value of this final state to player.\"\"\"\n",
    "        raise NotImplementedError\n",
    "        \n",
    "\n",
    "def play_game(game, strategies: dict, verbose=False):\n",
    "    \"\"\"Play a turn-taking game. `strategies` is a {player_name: function} dict,\n",
    "    where function(state, game) is used to get the player's move.\"\"\"\n",
    "    state = game.initial\n",
    "    while not game.is_terminal(state):\n",
    "        player = state.to_move\n",
    "        move = strategies[player](game, state)\n",
    "        state = game.result(state, move)\n",
    "        if verbose: \n",
    "            print('Player', player, 'move:', move)\n",
    "            print(state)\n",
    "    return state"
   ]
  },
  {
   "cell_type": "markdown",
   "id": "9b20ad5f-ffbf-4234-970e-fc55b7accfea",
   "metadata": {},
   "source": [
    "# Ejercicio: Implementar Minimax"
   ]
  },
  {
   "cell_type": "code",
   "execution_count": 8,
   "id": "925e6713-2752-4fe2-9102-9dc89e46d0de",
   "metadata": {},
   "outputs": [],
   "source": [
    "from email.errors import NonPrintableDefect\n",
    "from algorithms import *\n",
    "\n",
    "def minimax_search(game, state):\n",
    "    \"\"\"Search game tree to determine best move; return (value, move) pair.\"\"\"\n",
    "    player = state.to_move()\n",
    "    return max_value(game , player ,state)\n",
    "\n",
    "\n",
    "def max_value (game, player ,state):\n",
    "    if game.is_terminal(state):\n",
    "            return game.utility(state, player), None\n",
    "    v , move = -infinity , None\n",
    "    for i in game.action(state):\n",
    "        v1 , _ = min_value(game , player , game.result(state,i))\n",
    "        if(v1 > v):\n",
    "            v , move = v1 , i\n",
    "    return v , move\n",
    "\n",
    "\n",
    "def min_value(game, player , state ):\n",
    "    if game.is_terminal(state):\n",
    "            return game.utility(state, player), None\n",
    "    v , move = +infinity , None\n",
    "    for i in game.action(state):\n",
    "        v1 , _ = max_value(game , player , game.result(state,i))\n",
    "        if(v1 < v):\n",
    "            v , move = v1 , i\n",
    "    return v , move\n",
    "    "
   ]
  },
  {
   "cell_type": "markdown",
   "id": "ece428dc-f8e6-4cc1-a931-4907973ea038",
   "metadata": {},
   "source": [
    "# Ejercicio: Añadir poda Alpha-Beta"
   ]
  },
  {
   "cell_type": "code",
   "execution_count": 10,
   "id": "d3f59b97-5592-4a8c-b2ec-873c018358ea",
   "metadata": {},
   "outputs": [],
   "source": [
    "def alphabeta_search(game, state):\n",
    "    \"\"\"Search game to determine best action; use alpha-beta pruning.\"\"\"\n",
    "    player = state.to_move()\n",
    "    return max_value(game , player ,state, -infinity , +infinity)\n",
    "\n",
    "\n",
    "def max_value (game, player ,state , alpha , beta ):\n",
    "    if game.is_terminal(state):\n",
    "            return game.utility(state, player), None\n",
    "    v , move = -infinity , None\n",
    "    for i in game.action(state):\n",
    "        v1 , _ = min_value(game , player , game.result(state,i),alpha , beta)\n",
    "        if(v1 > v):\n",
    "            v , move = v1 , i\n",
    "            alpha = max(v,alpha)\n",
    "        if(alpha >= beta):\n",
    "            return v , move\n",
    "    return v , move\n",
    "\n",
    "\n",
    "def min_value(game, player , state , alpha , beta):\n",
    "    if game.is_terminal(state):\n",
    "            return game.utility(state, player), None\n",
    "    v , move = +infinity , None\n",
    "    for i in game.action(state):\n",
    "        v1 , _ = max_value(game , player , game.result(state,i),alpha , beta)\n",
    "        if(v1 < v):\n",
    "            v , move = v1 , i\n",
    "            alpha = max(v,alpha)\n",
    "        if(alpha <= beta):\n",
    "            return v , move\n",
    "    return v , move"
   ]
  },
  {
   "cell_type": "markdown",
   "id": "67fbcb85-3323-4192-8b59-7947e2d7a2fc",
   "metadata": {},
   "source": [
    "# Tic-Tac-Toe\n",
    "\n",
    "Tenemos la noción de un juego abstracto y vamos a definir un juego real: Tic-tac-toe. Los movimientos son pares `(x, y)` que denotan cuadrados, donde `(0, 0)` es la parte superior izquierda y `(2, 2)` es la parte inferior derecha (en un tablero de tamaño `height=width=3 `)."
   ]
  },
  {
   "cell_type": "code",
   "execution_count": null,
   "id": "3e7d7c51-73c3-4194-bb37-02c6b02cc992",
   "metadata": {},
   "outputs": [],
   "source": [
    "class TicTacToe(Game):\n",
    "    \"\"\"Play TicTacToe on an `height` by `width` board, needing `k` in a row to win.\n",
    "    'X' plays first against 'O'.\"\"\"\n",
    "\n",
    "    def __init__(self, height=3, width=3, k=3):\n",
    "        self.k = k # k in a row\n",
    "        self.squares = {(x, y) for x in range(width) for y in range(height)}\n",
    "        self.initial = Board(height=height, width=width, to_move='X', utility=0)\n",
    "\n",
    "    def actions(self, board):\n",
    "        \"\"\"Legal moves are any square not yet taken.\"\"\"\n",
    "        return self.squares - set(board)\n",
    "\n",
    "    def result(self, board, square):\n",
    "        \"\"\"Place a marker for current player on square.\"\"\"\n",
    "        player = board.to_move\n",
    "        board = board.new({square: player}, to_move=('O' if player == 'X' else 'X'))\n",
    "        win = k_in_row(board, player, square, self.k)\n",
    "        board.utility = (0 if not win else +1 if player == 'X' else -1)\n",
    "        return board\n",
    "\n",
    "    def utility(self, board, player):\n",
    "        \"\"\"Return the value to player; 1 for win, -1 for loss, 0 otherwise.\"\"\"\n",
    "        return board.utility if player == 'X' else -board.utility\n",
    "\n",
    "    def is_terminal(self, board):\n",
    "        \"\"\"A board is a terminal state if it is won or there are no empty squares.\"\"\"\n",
    "        return board.utility != 0 or len(self.squares) == len(board)\n",
    "\n",
    "    def display(self, board): print(board)     \n",
    "\n",
    "\n",
    "def k_in_row(board, player, square, k):\n",
    "    \"\"\"True if player has k pieces in a line through square.\"\"\"\n",
    "    def in_row(x, y, dx, dy): return 0 if board[x, y] != player else 1 + in_row(x + dx, y + dy, dx, dy)\n",
    "    return any(in_row(*square, dx, dy) + in_row(*square, -dx, -dy) - 1 >= k\n",
    "               for (dx, dy) in ((0, 1), (1, 0), (1, 1), (1, -1)))"
   ]
  },
  {
   "cell_type": "markdown",
   "id": "88767417-9dc2-4c45-b1d9-95aefb73ad99",
   "metadata": {},
   "source": [
    "Los estados en tic-tac-toe (y otros juegos) se representarán como un `Board`, que es una subclase de `defaultdict` que, en general, consistirá en pares `{(x, y): contents}`, por ejemplo `{(0, 0): 'X', (1, 1): 'O'}` podría ser el estado del tablero después de dos movimientos. Además del contenido de los cuadrados, un tablero también tiene algunos atributos:\n",
    "- `.to_move` para nombrar el jugador cuyo movimiento es;\n",
    "- `.width` y `.height` para dar el tamaño del tablero \n",
    "- posiblemente otros atributos, según lo especificado por las palabras clave.\n",
    "\n",
    "Como `defaultdict`, la clase `Board` tiene un método `__missing__`, que devuelve `empty` para los cuadrados que no han sido asignados pero que están dentro de los límites de `width` × `height`, o `off` de lo contrario."
   ]
  },
  {
   "cell_type": "code",
   "execution_count": 11,
   "id": "bab00f1c-a4fa-422c-a094-4030c4e3bf7d",
   "metadata": {},
   "outputs": [],
   "source": [
    "from collections import defaultdict\n",
    "class Board(defaultdict):\n",
    "    \"\"\"A board has the player to move, a cached utility value, \n",
    "    and a dict of {(x, y): player} entries, where player is 'X' or 'O'.\"\"\"\n",
    "    empty = '.'\n",
    "    off = '#'\n",
    "    \n",
    "    def __init__(self, width=8, height=8, to_move=None, **kwds):\n",
    "        self.__dict__.update(width=width, height=height, to_move=to_move, **kwds)\n",
    "        \n",
    "    def new(self, changes: dict, **kwds) -> 'Board':\n",
    "        \"Given a dict of {(x, y): contents} changes, return a new Board with the changes.\"\n",
    "        board = Board(width=self.width, height=self.height, **kwds)\n",
    "        board.update(self)\n",
    "        board.update(changes)\n",
    "        return board\n",
    "\n",
    "    def __missing__(self, loc):\n",
    "        x, y = loc\n",
    "        if 0 <= x < self.width and 0 <= y < self.height:\n",
    "            return self.empty\n",
    "        else:\n",
    "            return self.off\n",
    "            \n",
    "    def __hash__(self): \n",
    "        return hash(tuple(sorted(self.items()))) + hash(self.to_move)\n",
    "    \n",
    "    def __repr__(self):\n",
    "        def row(y): return ' '.join(self[x, y] for x in range(self.width))\n",
    "        return '\\n'.join(map(row, range(self.height))) +  '\\n'"
   ]
  },
  {
   "cell_type": "markdown",
   "id": "54b336e5-0bbd-465d-90fb-3519730326c3",
   "metadata": {},
   "source": [
    "# Jugadores\n",
    "\n",
    "Como interfaz para los jugadores, se representará a un jugador como un `callable` al que se le pasarán dos argumentos: `(game, state)` y devolverá un movimiento.\n",
    "La función `player` crea un jugador a partir de un algoritmo de búsqueda, pero es posible crear jugadores como funciones, como se hace con `random_player` a continuación:"
   ]
  },
  {
   "cell_type": "code",
   "execution_count": 12,
   "id": "9fb58acb-abbe-490f-b34b-591cdc703254",
   "metadata": {},
   "outputs": [],
   "source": [
    "import random\n",
    "\n",
    "def random_player(game, state): return random.choice(list(game.actions(state)))\n",
    "\n",
    "def player(search_algorithm):\n",
    "    \"\"\"A game player who uses the specified search algorithm\"\"\"\n",
    "    return lambda game, state: search_algorithm(game, state)[1]"
   ]
  },
  {
   "cell_type": "markdown",
   "id": "9961e50d-a77f-424c-9b93-17e54b719676",
   "metadata": {},
   "source": [
    "# Let's Play! :)\n",
    "\n",
    "Veamos que pasa en una partida de Tic-Tac-Toe entre un `random_player` (que elige aleatoriamente entre los movimientos legales) y un `player(alphabeta_search)`(que hace el movimiento óptimo). "
   ]
  },
  {
   "cell_type": "code",
   "execution_count": 13,
   "id": "6e71b419-7347-41a1-8dc8-bbaeb5c7ca20",
   "metadata": {},
   "outputs": [
    {
     "ename": "NameError",
     "evalue": "name 'TicTacToe' is not defined",
     "output_type": "error",
     "traceback": [
      "\u001b[0;31m---------------------------------------------------------------------------\u001b[0m",
      "\u001b[0;31mNameError\u001b[0m                                 Traceback (most recent call last)",
      "Cell \u001b[0;32mIn [13], line 1\u001b[0m\n\u001b[0;32m----> 1\u001b[0m play_game(TicTacToe(), \u001b[38;5;28mdict\u001b[39m(X\u001b[38;5;241m=\u001b[39mrandom_player, O\u001b[38;5;241m=\u001b[39mplayer(alphabeta_search)), verbose\u001b[38;5;241m=\u001b[39m\u001b[38;5;28;01mTrue\u001b[39;00m)\u001b[38;5;241m.\u001b[39mutility\n",
      "\u001b[0;31mNameError\u001b[0m: name 'TicTacToe' is not defined"
     ]
    }
   ],
   "source": [
    "play_game(TicTacToe(), dict(X=random_player, O=player(alphabeta_search)), verbose=True).utility"
   ]
  },
  {
   "cell_type": "markdown",
   "id": "7e6cd018-6dcb-4760-947f-4fa17e6587e4",
   "metadata": {},
   "source": [
    "El `player(alphabeta_search)` nunca perderá, pero si `random_player` tiene suerte, será un empate"
   ]
  },
  {
   "cell_type": "markdown",
   "id": "e1018cd8-f83c-43fa-be85-95525c236818",
   "metadata": {},
   "source": [
    "Ahora veamos qué pasa si enfrentamos los algoritmos de búsqueda `minimax_search` y `alphabeta_search`  "
   ]
  },
  {
   "cell_type": "code",
   "execution_count": 14,
   "id": "31e16193-62b0-4b41-8462-613b117ab006",
   "metadata": {},
   "outputs": [
    {
     "ename": "NameError",
     "evalue": "name 'TicTacToe' is not defined",
     "output_type": "error",
     "traceback": [
      "\u001b[0;31m---------------------------------------------------------------------------\u001b[0m",
      "\u001b[0;31mNameError\u001b[0m                                 Traceback (most recent call last)",
      "Cell \u001b[0;32mIn [14], line 1\u001b[0m\n\u001b[0;32m----> 1\u001b[0m play_game(TicTacToe(), \u001b[38;5;28mdict\u001b[39m(X\u001b[38;5;241m=\u001b[39mplayer(alphabeta_search), O\u001b[38;5;241m=\u001b[39mplayer(minimax_search)), verbose\u001b[38;5;241m=\u001b[39m\u001b[38;5;28;01mTrue\u001b[39;00m)\u001b[38;5;241m.\u001b[39mutility\n",
      "\u001b[0;31mNameError\u001b[0m: name 'TicTacToe' is not defined"
     ]
    }
   ],
   "source": [
    "play_game(TicTacToe(), dict(X=player(alphabeta_search), O=player(minimax_search)), verbose=True).utility"
   ]
  },
  {
   "cell_type": "markdown",
   "id": "d593e1f2-6d3d-4184-9a34-a2a79e667c90",
   "metadata": {},
   "source": [
    "Cuando compiten dos jugadores óptimos (alfa-beta o minimax), siempre será un empate"
   ]
  },
  {
   "cell_type": "markdown",
   "id": "4efba262-fdeb-4fe3-8dd7-87f6633fc8a1",
   "metadata": {
    "tags": []
   },
   "source": [
    "# Hex\n",
    "\n",
    "Hex es un juego de mesa de estrategia abstracta para dos jugadores en el que los jugadores intentan conectar los lados opuestos de un tablero en forma de rombo hecho de celdas hexagonales. Hex fue inventado por el matemático y poeta Piet Hein en 1942 y luego redescubierto y popularizado por John Nash.\n",
    "\n",
    "Se juega tradicionalmente en un tablero de rombos de 11×11, aunque también son populares los tableros de 13×13 y 19×19. El tablero está compuesto por hexágonos llamados celdas o hexágonos. A cada jugador se le asigna un par de lados opuestos del tablero, que deben intentar conectar colocando alternativamente una piedra de su color en cualquier hexágono vacío. Una vez colocadas, las piedras nunca se mueven ni se quitan. Un jugador gana cuando conecta con éxito sus lados a través de una cadena de piedras adyacentes. Los empates son imposibles en Hex debido a la topología del tablero de juego\n",
    "\n",
    "![](hex-board-2.png)"
   ]
  },
  {
   "cell_type": "code",
   "execution_count": 15,
   "id": "b2866e38-26a6-4f40-92de-c413e77a6fc9",
   "metadata": {},
   "outputs": [],
   "source": [
    "class Hex(Game):\n",
    "    \"\"\" Blue should connect left side with right side.\n",
    "        Red should connect upper side with lower side.\n",
    "        Blue makes first move.\n",
    "    \"\"\"\n",
    "    \n",
    "    def __init__(self, size=11):\n",
    "        self.squares = {(x, y) for x in range(size) for y in range(size)}\n",
    "        self.initial = HexBoard(height=size, width=size, to_move='B', ds = [-1] * (size * size + 4), utility=0)\n",
    "        self.size = size\n",
    "\n",
    "    def actions(self, board):\n",
    "        \"\"\"Legal moves are any square not yet taken.\"\"\"\n",
    "        return self.squares - set(board)\n",
    "\n",
    "    def result(self, board, square):\n",
    "        \"\"\"Place a marker for current player on square.\"\"\"\n",
    "        player = board.to_move\n",
    "        ds = board.ds[:]\n",
    "        board = board.new({square: player}, to_move=('R' if player == 'B' else 'B'), ds = ds)\n",
    "        \n",
    "        x, y = square\n",
    "        if player == 'B':\n",
    "            if y == 0:\n",
    "                board.join(0, self.position(x, y))\n",
    "            elif y + 1 == self.size:\n",
    "                board.join(1, self.position(x, y))\n",
    "        else:\n",
    "            if x == 0:\n",
    "                board.join(2, self.position(x, y))\n",
    "            elif x + 1 == self.size:\n",
    "                board.join(3, self.position(x, y))\n",
    "\n",
    "        for nx, ny in self.neighbour(x, y):\n",
    "            if board[(nx, ny)] == board[(x, y)]:\n",
    "                board.join(self.position(nx, ny), self.position(x, y))\n",
    "        \n",
    "        board.utility = (0 if not self.completed_path(board) else +1 if player == 'B' else -1)\n",
    "        return board\n",
    "\n",
    "    def utility(self, board, player):\n",
    "        \"\"\"Return the value to player; 1 for win, -1 for loss, 0 otherwise.\"\"\"\n",
    "        return board.utility if player == 'B' else -board.utility\n",
    "\n",
    "    def is_terminal(self, board):\n",
    "        \"\"\"A board is a terminal state if it is won or there are no empty squares.\"\"\"\n",
    "        return board.utility != 0 or len(self.squares) == len(board)\n",
    "\n",
    "    def display(self, board): print(board)\n",
    "    \n",
    "    def completed_path(self, board):\n",
    "        return board.root(0) == board.root(1) or board.root(2) == board.root(3)\n",
    "    \n",
    "    def checkInside(self, x, y):\n",
    "        return 0 <= x and x < self.size and 0 <= y and y < self.size\n",
    "\n",
    "    def neighbour(self, x, y):\n",
    "        neighborhood = [(-1, 1), (0, 1), (1, 0), (1, -1), (0, -1), (-1, 0)]\n",
    "\n",
    "        for neig in neighborhood:\n",
    "            nx, ny = x + neig[0], y + neig[1]\n",
    "            if self.checkInside(nx, ny):\n",
    "                yield nx, ny\n",
    "\n",
    "    def position(self, x, y):\n",
    "        return self.size * x + y + 4"
   ]
  },
  {
   "cell_type": "code",
   "execution_count": 16,
   "id": "b9edf7a4-4994-4241-b187-024e01494d70",
   "metadata": {},
   "outputs": [],
   "source": [
    "class HexBoard(defaultdict):\n",
    "    \"\"\"A board has the player to move, a cached utility value, \n",
    "    and a dict of {(x, y): player} entries, where player is 'W' or 'B'.\"\"\"\n",
    "    empty = '.'\n",
    "    off = '#'\n",
    "    \n",
    "    def __init__(self, width=8, height=8, to_move=None, ds = None, **kwds):\n",
    "        self.__dict__.update(width=width, height=height, to_move=to_move, ds = ds,**kwds)\n",
    "        \n",
    "    def new(self, changes: dict, **kwds) -> 'Board':\n",
    "        \"Given a dict of {(x, y): contents} changes, return a new Board with the changes.\"\n",
    "        board = HexBoard(width=self.width, height=self.height, **kwds)\n",
    "        board.update(self)\n",
    "        board.update(changes)\n",
    "        return board\n",
    "\n",
    "    def __missing__(self, loc):\n",
    "        x, y = loc\n",
    "        if 0 <= x < self.width and 0 <= y < self.height:\n",
    "            return self.empty\n",
    "        else:\n",
    "            return self.off\n",
    "            \n",
    "    def __hash__(self): \n",
    "        return hash(tuple(sorted(self.items()))) + hash(self.to_move)\n",
    "    \n",
    "    def __repr__(self):\n",
    "        ans = \"\"\n",
    "        for i in range(self.width):\n",
    "            ans += \" \" * i\n",
    "            for j in range(self.height):\n",
    "                ans += \" %s\"%self[i, j]\n",
    "            ans += \"\\n\"\n",
    "        return ans\n",
    "    \n",
    "    def root(self, a):\n",
    "        if self.ds[a] < 0:\n",
    "            return a\n",
    "        else:\n",
    "            self.ds[a] = self.root(self.ds[a])\n",
    "            return self.ds[a]\n",
    "\n",
    "    def join(self, a, b):\n",
    "        a, b = self.root(a), self.root(b)\n",
    "        if a == b:\n",
    "            return False\n",
    "        self.ds[a] = b\n",
    "        return True\n"
   ]
  },
  {
   "cell_type": "code",
   "execution_count": 17,
   "id": "9a7da0e9-ead6-4dcf-bd88-de7b7d6f24db",
   "metadata": {},
   "outputs": [
    {
     "name": "stdout",
     "output_type": "stream",
     "text": [
      "Player B move: (2, 0)\n",
      " . . .\n",
      "  . . .\n",
      "   B . .\n",
      "\n"
     ]
    },
    {
     "ename": "TypeError",
     "evalue": "'str' object is not callable",
     "output_type": "error",
     "traceback": [
      "\u001b[0;31m---------------------------------------------------------------------------\u001b[0m",
      "\u001b[0;31mTypeError\u001b[0m                                 Traceback (most recent call last)",
      "Cell \u001b[0;32mIn [17], line 1\u001b[0m\n\u001b[0;32m----> 1\u001b[0m play_game(Hex(\u001b[38;5;241m3\u001b[39m), \u001b[38;5;28mdict\u001b[39m(B\u001b[38;5;241m=\u001b[39mrandom_player, R\u001b[38;5;241m=\u001b[39mplayer(alphabeta_search)), verbose\u001b[38;5;241m=\u001b[39m\u001b[38;5;28;01mTrue\u001b[39;00m)\u001b[38;5;241m.\u001b[39mutility\n",
      "Cell \u001b[0;32mIn [4], line 31\u001b[0m, in \u001b[0;36mplay_game\u001b[0;34m(game, strategies, verbose)\u001b[0m\n\u001b[1;32m     29\u001b[0m \u001b[38;5;28;01mwhile\u001b[39;00m \u001b[38;5;129;01mnot\u001b[39;00m game\u001b[38;5;241m.\u001b[39mis_terminal(state):\n\u001b[1;32m     30\u001b[0m     player \u001b[38;5;241m=\u001b[39m state\u001b[38;5;241m.\u001b[39mto_move\n\u001b[0;32m---> 31\u001b[0m     move \u001b[38;5;241m=\u001b[39m \u001b[43mstrategies\u001b[49m\u001b[43m[\u001b[49m\u001b[43mplayer\u001b[49m\u001b[43m]\u001b[49m\u001b[43m(\u001b[49m\u001b[43mgame\u001b[49m\u001b[43m,\u001b[49m\u001b[43m \u001b[49m\u001b[43mstate\u001b[49m\u001b[43m)\u001b[49m\n\u001b[1;32m     32\u001b[0m     state \u001b[38;5;241m=\u001b[39m game\u001b[38;5;241m.\u001b[39mresult(state, move)\n\u001b[1;32m     33\u001b[0m     \u001b[38;5;28;01mif\u001b[39;00m verbose: \n",
      "Cell \u001b[0;32mIn [12], line 7\u001b[0m, in \u001b[0;36mplayer.<locals>.<lambda>\u001b[0;34m(game, state)\u001b[0m\n\u001b[1;32m      5\u001b[0m \u001b[38;5;28;01mdef\u001b[39;00m \u001b[38;5;21mplayer\u001b[39m(search_algorithm):\n\u001b[1;32m      6\u001b[0m     \u001b[38;5;124;03m\"\"\"A game player who uses the specified search algorithm\"\"\"\u001b[39;00m\n\u001b[0;32m----> 7\u001b[0m     \u001b[38;5;28;01mreturn\u001b[39;00m \u001b[38;5;28;01mlambda\u001b[39;00m game, state: \u001b[43msearch_algorithm\u001b[49m\u001b[43m(\u001b[49m\u001b[43mgame\u001b[49m\u001b[43m,\u001b[49m\u001b[43m \u001b[49m\u001b[43mstate\u001b[49m\u001b[43m)\u001b[49m[\u001b[38;5;241m1\u001b[39m]\n",
      "Cell \u001b[0;32mIn [10], line 3\u001b[0m, in \u001b[0;36malphabeta_search\u001b[0;34m(game, state)\u001b[0m\n\u001b[1;32m      1\u001b[0m \u001b[38;5;28;01mdef\u001b[39;00m \u001b[38;5;21malphabeta_search\u001b[39m(game, state):\n\u001b[1;32m      2\u001b[0m     \u001b[38;5;124;03m\"\"\"Search game to determine best action; use alpha-beta pruning.\"\"\"\u001b[39;00m\n\u001b[0;32m----> 3\u001b[0m     player \u001b[38;5;241m=\u001b[39m \u001b[43mstate\u001b[49m\u001b[38;5;241;43m.\u001b[39;49m\u001b[43mto_move\u001b[49m\u001b[43m(\u001b[49m\u001b[43m)\u001b[49m\n\u001b[1;32m      4\u001b[0m     \u001b[38;5;28;01mreturn\u001b[39;00m max_value(game , player ,state, \u001b[38;5;241m-\u001b[39minfinity , \u001b[38;5;241m+\u001b[39minfinity)\n",
      "\u001b[0;31mTypeError\u001b[0m: 'str' object is not callable"
     ]
    }
   ],
   "source": [
    "play_game(Hex(3), dict(B=random_player, R=player(alphabeta_search)), verbose=True).utility"
   ]
  },
  {
   "cell_type": "markdown",
   "id": "4bca1215-2230-4c84-9888-0fc3000e7d3d",
   "metadata": {},
   "source": [
    "# Ejercicio: Limitar la profundidad en la búsqueda\n",
    "\n",
    "Para hacer uso de nuestro tiempo de cálculo limitado, podemos cortar la búsqueda temprano y aplicar un\n",
    "función de evaluación heurística a estados, tratando efectivamente los nodos no terminales como si lo fueran."
   ]
  },
  {
   "cell_type": "code",
   "execution_count": null,
   "id": "16f988f2-8b97-4f88-b702-463e0fa7a7a9",
   "metadata": {},
   "outputs": [],
   "source": [
    "def cutoff_depth(d):\n",
    "    \"\"\"A cutoff function that searches to depth d.\"\"\"\n",
    "    return lambda game, state, depth: depth > d\n",
    "\n",
    "def h_alphabeta_search(game, state, cutoff=cutoff_depth(6), h=lambda s, p: 0):\n",
    "    #TODO: Your code here!\n",
    "    return None"
   ]
  },
  {
   "cell_type": "markdown",
   "id": "07c20b2f-98b6-4c33-85b0-3a5bfefec206",
   "metadata": {},
   "source": [
    "# Ejercicio: Proponer una heurística para Hex"
   ]
  },
  {
   "cell_type": "code",
   "execution_count": null,
   "id": "80bb3a42-0370-4cf6-a4b8-e5e9a4a7fab7",
   "metadata": {},
   "outputs": [],
   "source": [
    "def hex_heuristic(state, player):\n",
    "    # TODO: Your code here!\n",
    "    return 0\n",
    "\n",
    "def hex_alphabeta_search(game, state, cutoff=cutoff_depth(6), h=hex_heuristic):\n",
    "    return h_alphabeta_search_solution(game, state, cutoff, h)"
   ]
  },
  {
   "cell_type": "code",
   "execution_count": null,
   "id": "531c21dc-31d2-443c-a428-93cab71fe98f",
   "metadata": {},
   "outputs": [],
   "source": [
    "play_game(Hex(3), dict(B=random_player, R=player(h_alphabeta_search)), verbose=True).utility"
   ]
  },
  {
   "cell_type": "code",
   "execution_count": null,
   "id": "d8db4b7f-5eed-4c10-b04d-a960db0d9038",
   "metadata": {},
   "outputs": [],
   "source": []
  }
 ],
 "metadata": {
  "kernelspec": {
   "display_name": "Python 3.10.7 64-bit",
   "language": "python",
   "name": "python3"
  },
  "language_info": {
   "codemirror_mode": {
    "name": "ipython",
    "version": 3
   },
   "file_extension": ".py",
   "mimetype": "text/x-python",
   "name": "python",
   "nbconvert_exporter": "python",
   "pygments_lexer": "ipython3",
   "version": "3.10.7"
  },
  "vscode": {
   "interpreter": {
    "hash": "aee8b7b246df8f9039afb4144a1f6fd8d2ca17a180786b69acc140d282b71a49"
   }
  }
 },
 "nbformat": 4,
 "nbformat_minor": 5
}
